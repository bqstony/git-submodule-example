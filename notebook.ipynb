{
 "cells": [
  {
   "cell_type": "markdown",
   "metadata": {},
   "source": [
    "# Sample to demonstrate git submodule"
   ]
  },
  {
   "cell_type": "code",
   "execution_count": 2,
   "metadata": {
    "dotnet_interactive": {
     "language": "pwsh"
    },
    "vscode": {
     "languageId": "dotnet-interactive.pwsh"
    }
   },
   "outputs": [],
   "source": [
    "# Init variables\n",
    "# Fix the following paths to locate the repository\n",
    "$localWorkfolderPath = \"C:\\Source\\github\\bqstony\"\n",
    "$localRepoPath = \"$localWorkfolderPath\\git-submodule-example\"\n",
    "$remoteRepoGit = \"https://github.com/bqstony/git-submodule-example.git\""
   ]
  },
  {
   "cell_type": "code",
   "execution_count": null,
   "metadata": {
    "dotnet_interactive": {
     "language": "pwsh"
    },
    "vscode": {
     "languageId": "dotnet-interactive.pwsh"
    }
   },
   "outputs": [],
   "source": [
    "\n",
    "# Reset to inital state and create playground branch\n",
    "Set-Location $localRepoPath; \"working on location: \" + (Get-Location).Path\n",
    "git checkout main\n",
    "git branch -D playground\n",
    "git reset --hard initial\n",
    "git clean -f -fdx\n",
    "git checkout -b playground"
   ]
  },
  {
   "cell_type": "code",
   "execution_count": null,
   "metadata": {
    "dotnet_interactive": {
     "language": "pwsh"
    },
    "vscode": {
     "languageId": "dotnet-interactive.pwsh"
    }
   },
   "outputs": [],
   "source": [
    "# First add a submodule\n",
    "git submodule add --force -b main --name git-submodule-example-sub1 https://github.com/bqstony/git-submodule-example-sub1.git .\\source\\submodules\\git-submodule-example-sub1\n",
    "git commit -a -m \"add the submodule git-submodule-example-sub1\""
   ]
  },
  {
   "cell_type": "code",
   "execution_count": null,
   "metadata": {
    "dotnet_interactive": {
     "language": "pwsh"
    },
    "vscode": {
     "languageId": "dotnet-interactive.pwsh"
    }
   },
   "outputs": [],
   "source": [
    "# Add a stick-figure\n",
    "Invoke-WebRequest -Uri https://raw.githubusercontent.com/bqstony/git-submodule-example/b224fd202bc7abd878ac81a41ad196716fa3c3ca/source/showcase.html -OutFile .\\source\\showcase.html\n",
    "git add -A; git commit -am \"add stick-figure\"\n",
    "code .\\source\\showcase.html"
   ]
  },
  {
   "cell_type": "code",
   "execution_count": 30,
   "metadata": {
    "dotnet_interactive": {
     "language": "pwsh"
    },
    "vscode": {
     "languageId": "dotnet-interactive.pwsh"
    }
   },
   "outputs": [],
   "source": [
    "# Someone has update the submodule to V2 and we wonna try this new feature\n",
    "git submodule foreach git checkout V2\n",
    "git commit -am \"update to V2\""
   ]
  },
  {
   "cell_type": "code",
   "execution_count": null,
   "metadata": {
    "dotnet_interactive": {
     "language": "pwsh"
    },
    "vscode": {
     "languageId": "dotnet-interactive.pwsh"
    }
   },
   "outputs": [],
   "source": [
    "# Let's do our sticky something\n",
    "Invoke-WebRequest -Uri https://raw.githubusercontent.com/bqstony/git-submodule-example/dc5423fb0d98f6e49db6b0cb756558132c4a6da3/source/showcase.html -OutFile .\\source\\showcase.html\n",
    "git commit -am \"add toy\""
   ]
  },
  {
   "cell_type": "code",
   "execution_count": null,
   "metadata": {
    "dotnet_interactive": {
     "language": "pwsh"
    },
    "vscode": {
     "languageId": "dotnet-interactive.pwsh"
    }
   },
   "outputs": [],
   "source": [
    "# Then the V3 has made it to the submodule, we update this now\n",
    "git submodule foreach git checkout V3\n",
    "git commit -am \"update to V3\""
   ]
  },
  {
   "cell_type": "markdown",
   "metadata": {},
   "source": [
    "# Clone new Repository with submodule"
   ]
  },
  {
   "cell_type": "code",
   "execution_count": null,
   "metadata": {
    "dotnet_interactive": {
     "language": "pwsh"
    },
    "vscode": {
     "languageId": "dotnet-interactive.pwsh"
    }
   },
   "outputs": [],
   "source": [
    "# Now lets glone this project with the submodule\n",
    "Set-Location $localWorkfolderPath; \"working on location: \" + (Get-Location).Path\n",
    "# --recurse-submodules is the same as \"git submodule update --init --recursive\"\n",
    "git clone --recurse-submodules $remoteRepoGit .\\git-submodule-example-clone"
   ]
  },
  {
   "cell_type": "code",
   "execution_count": null,
   "metadata": {
    "dotnet_interactive": {
     "language": "pwsh"
    },
    "vscode": {
     "languageId": "dotnet-interactive.pwsh"
    }
   },
   "outputs": [],
   "source": [
    "# Example of pulling the newest version\n",
    "Set-Location \"$localWorkfolderPath\\git-submodule-example-clone\"; \"working on location: \" + (Get-Location).Path\n",
    "\n",
    "# Go back 2 commits\n",
    "git reset --hard HEAD~2\n",
    "# Update submodule with commited state\n",
    "git submodule update --init --recursive\n",
    "\n",
    "# Update to latest main branch with submodule\n",
    "# - works mostly\n",
    "git pull\n",
    "git submodule update --init --recursive\n",
    "\n",
    "# - With somethimes errors, do not use when new submodules are added\n",
    "git pull --recurse-submodules"
   ]
  }
 ],
 "metadata": {
  "kernelspec": {
   "display_name": ".NET (PowerShell)",
   "language": "PowerShell",
   "name": ".net-pwsh"
  },
  "language_info": {
   "name": "PowerShell"
  }
 },
 "nbformat": 4,
 "nbformat_minor": 2
}
